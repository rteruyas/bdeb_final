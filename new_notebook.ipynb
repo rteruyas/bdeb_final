{
    "cells": [
        {
            "cell_type": "code",
            "execution_count": null,
            "id": "f0d62923",
            "metadata": {
                "id": "f0d62923"
            },
            "outputs": [],
            "source": []
        },
        {
            "cell_type": "markdown",
            "source": [
                "Slide 1 : Introduction\n",
                "\u2022\tContexte du Projet :\n",
                "Mise en place d'une solution MLOps pour automatiser l'entra\u00eenement, le d\u00e9ploiement et le suivi d\u2019un mod\u00e8le pour la maintenance pr\u00e9ventive d\u2019\u00e9quipement.\n",
                "\u2022\tObjectifs :\n",
                "o\tAutomatiser le pr\u00e9traitement, la s\u00e9paration train/test et l'entra\u00eenement.\n",
                "o\tAssurer le suivi des mod\u00e8les et des donn\u00e9es.\n",
                "o\tD\u00e9ployer une API accessible via divers outils (curl, Postman) et une interface web.\n",
                "o\tConception th\u00e9orique du projet:\n",
                "\n",
                "________________________________________\n",
                "Slide 2 : Suivi initial des Mod\u00e8les et des Donn\u00e9es en pratique\n",
                "\u2022\tUtilisation de aws pour les donn\u00e9es:\n",
                "o\tSimplification du \u00ab Set up \u00bb initial.\n",
                "o\tGestion simplifier des donn\u00e9es initiales.\n",
                "o\t\u00ab Tra\u00e7abilit\u00e9 \u00bb des donn\u00e9es avec dagshub.\n",
                "\n",
                "\u2022\tUtilisation de Dagshub :\n",
                "o\tSuivi des exp\u00e9riences avec MLflow.\n",
                "o\tGestion des versions de donn\u00e9es via DVC.\n",
                "o\tTra\u00e7abilit\u00e9 des mod\u00e8les entra\u00een\u00e9s.\n",
                "o\n",
                "\n",
                "\u2022\tApprentissages :\n",
                "o\tLa configuration de Dagshub a \u00e9t\u00e9 laborieuse mais s'est av\u00e9r\u00e9e tr\u00e8s utile pour comprendre et suivre les changements.\n",
                "o\tN\u00e9cessit\u00e9 de se familiariser avec l\u2019utilisation des hash pour r\u00e9cup\u00e9rer des versions sp\u00e9cifiques de donn\u00e9es.\n",
                "________________________________________\n",
                "Slide 3 : Pipeline Automatis\u00e9\n",
                "\u2022\tAutomatisation des Processus :\n",
                "o\tPr\u00e9traitement Automatique : Nettoyage et transformation des donn\u00e9es sans intervention manuelle.\n",
                "o\tDivision Train/Test : S\u00e9paration des donn\u00e9es r\u00e9alis\u00e9e automatiquement pour garantir une bonne \u00e9valuation.\n",
                "o\tEntra\u00eenement et S\u00e9lection du Mod\u00e8le :\n",
                "\uf0a7\tEntra\u00eenement automatique de plusieurs mod\u00e8les.\n",
                "\uf0a7\tS\u00e9lection du meilleur mod\u00e8le selon des crit\u00e8res d\u00e9finis.\n",
                "\u2022\tImpact :\n",
                "R\u00e9duction du temps d'intervention et am\u00e9lioration de la reproductibilit\u00e9 des exp\u00e9riences.\n",
                "________________________________________\n",
                "Slide 4 : D\u00e9ploiement de l'API et de l'Interface Web\n",
                "\u2022\tAPI avec Flask :\n",
                "o\tConstruction d\u2019une API REST avec Flask, int\u00e9grant :\n",
                "\uf0a7\tUne image Docker pr\u00eate \u00e0 l\u2019emploi.\n",
                "\uf0a7\tUn fichier \u00ab Swagger \u00bb pour la documentation.\n",
                "\uf0a7\tUn fichier requirements.txt pour la gestion des d\u00e9pendances.\n",
                "\u2022\tInterface Web :\n",
                "o\tMise en place d\u2019une page web qui permet d\u2019acc\u00e9der aux fonctionnalit\u00e9s de l\u2019API avec streamlit\n",
                "o\tUne image Docker pr\u00eate \u00e0 l\u2019emploi\n",
                "o\tUn fichier requirements.txt pour la gestion des d\u00e9pendances\n",
                "\u2022\tAccessibilit\u00e9 :\n",
                "o\tL\u2019API est facilement testable avec des outils comme curl ou Postman, facilitant ainsi les int\u00e9grations et les tests.\n",
                "________________________________________\n",
                "Slide 5 : D\u00e9fis et Apprentissages en MLOps\n",
                "\u2022\tTemps et Complexit\u00e9 d'Impl\u00e9mentation :\n",
                "o\tL\u2019apprentissage et la mise en place de MLOps demandent un investissement important en temps.\n",
                "o\tGoogle drive trouble d\u2019Access avec dvc et impossibilit\u00e9 de suivi avec dagshub\n",
                "o\tLa configuration de l\u2019environnement avec DVC et GitHub a n\u00e9cessit\u00e9 une p\u00e9riode d\u2019adaptation pour comprendre le suivi des modifications via les hash.\n",
                "\u2022\tDifficult\u00e9s Techniques :\n",
                "o\tCertains services gratuits de Dagshub n\u2019ont pas fonctionn\u00e9 comme attendu, poussant \u00e0 explorer des solutions alternatives comme AWS.\n",
                "o\tProbl\u00e8mes rencontr\u00e9s avec Docker sur Windows 11 Home, impliquant un changement de mat\u00e9riel pour une meilleure compatibilit\u00e9.\n",
                "________________________________________\n",
                "Slide 6 : Adaptations Techniques et Solutions\n",
                "\u2022\tProbl\u00e8mes Docker :\n",
                "o\tConfrontation \u00e0 des incompatibilit\u00e9s de librairies dans certaines versions de Docker.\n",
                "o\tUtilisation de l\u2019image python:3.10-slim-buster pour garantir le fonctionnement correct de numpy 2.2.2.\n",
                "\u2022\tSolutions Alternatives :\n",
                "o\tPassage \u00e0 AWS pour certaines fonctionnalit\u00e9s non support\u00e9es par la version gratuite de Dagshub.\n",
                "o\tAdaptation de l\u2019environnement de d\u00e9veloppement pour r\u00e9pondre aux contraintes techniques rencontr\u00e9es.\n",
                "________________________________________\n",
                "Slide 7 : Conclusion et Perspectives\n",
                "\u2022\tBilan de l'Exp\u00e9rience :\n",
                "o\tMalgr\u00e9 les d\u00e9fis techniques et la courbe d\u2019apprentissage, la mise en place d\u2019un pipeline MLOps a apport\u00e9 une grande valeur en termes de suivi, d\u2019automatisation et de d\u00e9ploiement des mod\u00e8les.\n",
                "\u2022\tLe\u00e7ons Apprises :\n",
                "o\tImportance de l\u2019automatisation pour gagner en efficacit\u00e9.\n",
                "o\tN\u00e9cessit\u00e9 d\u2019une bonne gestion des versions pour garantir la reproductibilit\u00e9.\n",
                "o\tFlexibilit\u00e9 et adaptation sont essentielles face aux contraintes techniques.\n",
                "\u2022\tProchaines \u00c9tapes :\n",
                "o\tManque s\u00e9curit\u00e9 de application ( login, jwt token, user access database ect)\n",
                "o\tMonitoring avec evidently, graphana, prometeus et/ou autre outil post deployment pour le data drift et metrics\n",
                "o\tPoursuivre la formation et l\u2019exploration de nouveaux outils MLOps.\n",
                "o\tOptimiser le pipeline existant et \u00e9tendre ses fonctionnalit\u00e9s selon les besoins futurs.\n"
            ],
            "metadata": {
                "id": "KvIyJWqrXHnC"
            },
            "id": "KvIyJWqrXHnC"
        },
        {
            "cell_type": "markdown",
            "id": "fd2e0fe4",
            "metadata": {
                "id": "fd2e0fe4"
            },
            "source": [
                "## Run this to save the notebook to DagsHub \ud83d\udc47"
            ]
        },
        {
            "cell_type": "code",
            "execution_count": 1,
            "metadata": {
                "id": "2JvR9_vR4VyK",
                "executionInfo": {
                    "status": "ok",
                    "timestamp": 1740541739347,
                    "user_tz": 300,
                    "elapsed": 17098,
                    "user": {
                        "displayName": "",
                        "userId": ""
                    }
                },
                "outputId": "b7dc1cd3-724b-437d-c648-9d3f4a31ea1b",
                "colab": {
                    "base_uri": "https://localhost:8080/"
                }
            },
            "outputs": [
                {
                    "output_type": "stream",
                    "name": "stdout",
                    "text": [
                        "\u001b[?25l   \u001b[90m\u2501\u2501\u2501\u2501\u2501\u2501\u2501\u2501\u2501\u2501\u2501\u2501\u2501\u2501\u2501\u2501\u2501\u2501\u2501\u2501\u2501\u2501\u2501\u2501\u2501\u2501\u2501\u2501\u2501\u2501\u2501\u2501\u2501\u2501\u2501\u2501\u2501\u2501\u2501\u2501\u001b[0m \u001b[32m0.0/259.8 kB\u001b[0m \u001b[31m?\u001b[0m eta \u001b[36m-:--:--\u001b[0m\r\u001b[2K   \u001b[91m\u2501\u2501\u2501\u2501\u2501\u2501\u2501\u2501\u2501\u2501\u2501\u2501\u2501\u2501\u2501\u2501\u2501\u2501\u2501\u2501\u2501\u2501\u2501\u2501\u2501\u2501\u2501\u2501\u2501\u2501\u2501\u2501\u2501\u2501\u2501\u2501\u2501\u2501\u2501\u001b[0m\u001b[90m\u257a\u001b[0m \u001b[32m256.0/259.8 kB\u001b[0m \u001b[31m13.4 MB/s\u001b[0m eta \u001b[36m0:00:01\u001b[0m\r\u001b[2K   \u001b[90m\u2501\u2501\u2501\u2501\u2501\u2501\u2501\u2501\u2501\u2501\u2501\u2501\u2501\u2501\u2501\u2501\u2501\u2501\u2501\u2501\u2501\u2501\u2501\u2501\u2501\u2501\u2501\u2501\u2501\u2501\u2501\u2501\u2501\u2501\u2501\u2501\u2501\u2501\u2501\u2501\u001b[0m \u001b[32m259.8/259.8 kB\u001b[0m \u001b[31m6.7 MB/s\u001b[0m eta \u001b[36m0:00:00\u001b[0m\n",
                        "\u001b[2K   \u001b[90m\u2501\u2501\u2501\u2501\u2501\u2501\u2501\u2501\u2501\u2501\u2501\u2501\u2501\u2501\u2501\u2501\u2501\u2501\u2501\u2501\u2501\u2501\u2501\u2501\u2501\u2501\u2501\u2501\u2501\u2501\u2501\u2501\u2501\u2501\u2501\u2501\u2501\u2501\u2501\u2501\u001b[0m \u001b[32m139.3/139.3 kB\u001b[0m \u001b[31m6.8 MB/s\u001b[0m eta \u001b[36m0:00:00\u001b[0m\n",
                        "\u001b[2K   \u001b[90m\u2501\u2501\u2501\u2501\u2501\u2501\u2501\u2501\u2501\u2501\u2501\u2501\u2501\u2501\u2501\u2501\u2501\u2501\u2501\u2501\u2501\u2501\u2501\u2501\u2501\u2501\u2501\u2501\u2501\u2501\u2501\u2501\u2501\u2501\u2501\u2501\u2501\u2501\u2501\u2501\u001b[0m \u001b[32m13.4/13.4 MB\u001b[0m \u001b[31m74.5 MB/s\u001b[0m eta \u001b[36m0:00:00\u001b[0m\n",
                        "\u001b[2K   \u001b[90m\u2501\u2501\u2501\u2501\u2501\u2501\u2501\u2501\u2501\u2501\u2501\u2501\u2501\u2501\u2501\u2501\u2501\u2501\u2501\u2501\u2501\u2501\u2501\u2501\u2501\u2501\u2501\u2501\u2501\u2501\u2501\u2501\u2501\u2501\u2501\u2501\u2501\u2501\u2501\u2501\u001b[0m \u001b[32m202.9/202.9 kB\u001b[0m \u001b[31m13.5 MB/s\u001b[0m eta \u001b[36m0:00:00\u001b[0m\n",
                        "\u001b[2K   \u001b[90m\u2501\u2501\u2501\u2501\u2501\u2501\u2501\u2501\u2501\u2501\u2501\u2501\u2501\u2501\u2501\u2501\u2501\u2501\u2501\u2501\u2501\u2501\u2501\u2501\u2501\u2501\u2501\u2501\u2501\u2501\u2501\u2501\u2501\u2501\u2501\u2501\u2501\u2501\u2501\u2501\u001b[0m \u001b[32m50.9/50.9 kB\u001b[0m \u001b[31m3.2 MB/s\u001b[0m eta \u001b[36m0:00:00\u001b[0m\n",
                        "\u001b[2K   \u001b[90m\u2501\u2501\u2501\u2501\u2501\u2501\u2501\u2501\u2501\u2501\u2501\u2501\u2501\u2501\u2501\u2501\u2501\u2501\u2501\u2501\u2501\u2501\u2501\u2501\u2501\u2501\u2501\u2501\u2501\u2501\u2501\u2501\u2501\u2501\u2501\u2501\u2501\u2501\u2501\u2501\u001b[0m \u001b[32m84.2/84.2 kB\u001b[0m \u001b[31m4.7 MB/s\u001b[0m eta \u001b[36m0:00:00\u001b[0m\n",
                        "\u001b[2K   \u001b[90m\u2501\u2501\u2501\u2501\u2501\u2501\u2501\u2501\u2501\u2501\u2501\u2501\u2501\u2501\u2501\u2501\u2501\u2501\u2501\u2501\u2501\u2501\u2501\u2501\u2501\u2501\u2501\u2501\u2501\u2501\u2501\u2501\u2501\u2501\u2501\u2501\u2501\u2501\u2501\u2501\u001b[0m \u001b[32m74.2/74.2 kB\u001b[0m \u001b[31m5.1 MB/s\u001b[0m eta \u001b[36m0:00:00\u001b[0m\n",
                        "\u001b[?25h"
                    ]
                }
            ],
            "source": [
                "# Install the DagsHub python client\n",
                "!pip install -q dagshub\n"
            ],
            "id": "2JvR9_vR4VyK"
        },
        {
            "cell_type": "code",
            "execution_count": null,
            "id": "f7fd65e3",
            "metadata": {
                "id": "f7fd65e3"
            },
            "outputs": [],
            "source": [
                "from dagshub.notebook import save_notebook\n",
                "\n",
                "save_notebook(repo=\"rteruyas/bdeb_final\", path=\".\")"
            ]
        }
    ],
    "metadata": {
        "kernelspec": {
            "display_name": "Python 3 (ipykernel)",
            "language": "python",
            "name": "python3"
        },
        "language_info": {
            "codemirror_mode": {
                "name": "ipython",
                "version": 3
            },
            "file_extension": ".py",
            "mimetype": "text/x-python",
            "name": "python",
            "nbconvert_exporter": "python",
            "pygments_lexer": "ipython3",
            "version": "3.9.5"
        },
        "colab": {
            "provenance": []
        }
    },
    "nbformat": 4,
    "nbformat_minor": 5
}